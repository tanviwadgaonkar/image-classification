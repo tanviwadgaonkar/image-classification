# Model Training Notebook
This notebook is used for training the image classification model. It includes code for defining, compiling, and fitting the model.
